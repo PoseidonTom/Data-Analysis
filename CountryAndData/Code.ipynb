{
 "cells": [
  {
   "cell_type": "code",
   "execution_count": 4,
   "id": "b7e3dd18",
   "metadata": {},
   "outputs": [],
   "source": [
    "import pandas as pd\n",
    "import numpy as np"
   ]
  },
  {
   "cell_type": "markdown",
   "id": "cad8e486",
   "metadata": {},
   "source": [
    "<b><font size = 3>1. Importing, cleansing and dressing up the datasets for proper merging."
   ]
  },
  {
   "cell_type": "code",
   "execution_count": 5,
   "id": "a407f652",
   "metadata": {
    "collapsed": true
   },
   "outputs": [
    {
     "name": "stderr",
     "output_type": "stream",
     "text": [
      "<ipython-input-5-2d976be131fc>:41: SettingWithCopyWarning: \n",
      "A value is trying to be set on a copy of a slice from a DataFrame\n",
      "\n",
      "See the caveats in the documentation: https://pandas.pydata.org/pandas-docs/stable/user_guide/indexing.html#returning-a-view-versus-a-copy\n",
      "  df2['Country Name'][df2['Country Name']=='Iran, Islamic Rep.']='Iran'\n",
      "<ipython-input-5-2d976be131fc>:42: SettingWithCopyWarning: \n",
      "A value is trying to be set on a copy of a slice from a DataFrame\n",
      "\n",
      "See the caveats in the documentation: https://pandas.pydata.org/pandas-docs/stable/user_guide/indexing.html#returning-a-view-versus-a-copy\n",
      "  df2['Country Name'][df2['Country Name']=='Hong Kong SAR, China']='Hong Kong'\n"
     ]
    },
    {
     "name": "stdout",
     "output_type": "stream",
     "text": [
      "                    Rank  Documents  Citable documents  Citations  \\\n",
      "Country Name                                                        \n",
      "China                  1     127050             126767     597237   \n",
      "United States          2      96661              94747     792274   \n",
      "Japan                  3      30504              30287     223024   \n",
      "United Kingdom         4      20944              20357     206091   \n",
      "Russian Federation     5      18534              18301      34266   \n",
      "Canada                 6      17899              17620     215003   \n",
      "Germany                7      17027              16831     140566   \n",
      "India                  8      15005              14841     128763   \n",
      "France                 9      13153              12973     130632   \n",
      "South Korea           10      11983              11923     114675   \n",
      "Italy                 11      10964              10794     111850   \n",
      "Spain                 12       9428               9330     123336   \n",
      "Iran                  13       8896               8819      57470   \n",
      "Australia             14       8831               8725      90765   \n",
      "Brazil                15       8668               8596      60702   \n",
      "\n",
      "                    Self-citations  Citations per document  H index  \\\n",
      "Country Name                                                          \n",
      "China                       411683                    4.70      138   \n",
      "United States               265436                    8.20      230   \n",
      "Japan                        61554                    7.31      134   \n",
      "United Kingdom               37874                    9.84      139   \n",
      "Russian Federation           12422                    1.85       57   \n",
      "Canada                       40930                   12.01      149   \n",
      "Germany                      27426                    8.26      126   \n",
      "India                        37209                    8.58      115   \n",
      "France                       28601                    9.93      114   \n",
      "South Korea                  22595                    9.57      104   \n",
      "Italy                        26661                   10.20      106   \n",
      "Spain                        23964                   13.08      115   \n",
      "Iran                         19125                    6.46       72   \n",
      "Australia                    15606                   10.28      107   \n",
      "Brazil                       14396                    7.00       86   \n",
      "\n",
      "                    Energy Supply  Energy Supply per Capita % Renewable  \\\n",
      "Country Name                                                              \n",
      "China                1.271910e+11                      93.0    19.75491   \n",
      "United States        9.083800e+10                     286.0    11.57098   \n",
      "Japan                1.898400e+10                     149.0    10.23282   \n",
      "United Kingdom       7.920000e+09                     124.0    10.60047   \n",
      "Russian Federation   3.070900e+10                     214.0    17.28868   \n",
      "Canada               1.043100e+10                     296.0    61.94543   \n",
      "Germany              1.326100e+10                     165.0    17.90153   \n",
      "India                3.319500e+10                      26.0    14.96908   \n",
      "France               1.059700e+10                     166.0    17.02028   \n",
      "South Korea          1.100700e+10                     221.0    2.279353   \n",
      "Italy                6.530000e+09                     109.0    33.66723   \n",
      "Spain                4.923000e+09                     106.0    37.96859   \n",
      "Iran                 9.172000e+09                     119.0    5.707721   \n",
      "Australia            5.386000e+09                     231.0    11.81081   \n",
      "Brazil               1.214900e+10                      59.0    69.64803   \n",
      "\n",
      "                            2006          2007          2008          2009  \\\n",
      "Country Name                                                                 \n",
      "China               3.992331e+12  4.559041e+12  4.997775e+12  5.459247e+12   \n",
      "United States       1.479230e+13  1.505540e+13  1.501149e+13  1.459484e+13   \n",
      "Japan               5.496542e+12  5.617036e+12  5.558527e+12  5.251308e+12   \n",
      "United Kingdom      2.419631e+12  2.482203e+12  2.470614e+12  2.367048e+12   \n",
      "Russian Federation  1.385793e+12  1.504071e+12  1.583004e+12  1.459199e+12   \n",
      "Canada              1.564469e+12  1.596740e+12  1.612713e+12  1.565145e+12   \n",
      "Germany             3.332891e+12  3.441561e+12  3.478809e+12  3.283340e+12   \n",
      "India               1.265894e+12  1.374865e+12  1.428361e+12  1.549483e+12   \n",
      "France              2.607840e+12  2.669424e+12  2.674637e+12  2.595967e+12   \n",
      "South Korea         9.410199e+11  9.924316e+11  1.020510e+12  1.027730e+12   \n",
      "Italy               2.202170e+12  2.234627e+12  2.211154e+12  2.089938e+12   \n",
      "Spain               1.414823e+12  1.468146e+12  1.484530e+12  1.431475e+12   \n",
      "Iran                3.895523e+11  4.250646e+11  4.289909e+11  4.389208e+11   \n",
      "Australia           1.021939e+12  1.060340e+12  1.099644e+12  1.119654e+12   \n",
      "Brazil              1.845080e+12  1.957118e+12  2.056809e+12  2.054215e+12   \n",
      "\n",
      "                            2010          2011          2012          2013  \\\n",
      "Country Name                                                                 \n",
      "China               6.039659e+12  6.612490e+12  7.124978e+12  7.672448e+12   \n",
      "United States       1.496437e+13  1.520402e+13  1.554216e+13  1.577367e+13   \n",
      "Japan               5.498718e+12  5.473738e+12  5.569102e+12  5.644659e+12   \n",
      "United Kingdom      2.403504e+12  2.450911e+12  2.479809e+12  2.533370e+12   \n",
      "Russian Federation  1.524917e+12  1.589943e+12  1.645876e+12  1.666934e+12   \n",
      "Canada              1.613406e+12  1.664087e+12  1.693133e+12  1.730688e+12   \n",
      "Germany             3.417298e+12  3.542371e+12  3.556724e+12  3.567317e+12   \n",
      "India               1.708459e+12  1.821872e+12  1.924235e+12  2.051982e+12   \n",
      "France              2.646995e+12  2.702032e+12  2.706968e+12  2.722567e+12   \n",
      "South Korea         1.094499e+12  1.134796e+12  1.160809e+12  1.194429e+12   \n",
      "Italy               2.125185e+12  2.137439e+12  2.077184e+12  2.040871e+12   \n",
      "Spain               1.431673e+12  1.417355e+12  1.380216e+12  1.357139e+12   \n",
      "Iran                4.677902e+11  4.853309e+11  4.532569e+11  4.445926e+11   \n",
      "Australia           1.142251e+12  1.169431e+12  1.211913e+12  1.241484e+12   \n",
      "Brazil              2.208872e+12  2.295245e+12  2.339209e+12  2.409740e+12   \n",
      "\n",
      "                            2014          2015  \n",
      "Country Name                                    \n",
      "China               8.230121e+12  8.797999e+12  \n",
      "United States       1.615662e+13  1.654857e+13  \n",
      "Japan               5.642884e+12  5.669563e+12  \n",
      "United Kingdom      2.605643e+12  2.666333e+12  \n",
      "Russian Federation  1.678709e+12  1.616149e+12  \n",
      "Canada              1.773486e+12  1.792609e+12  \n",
      "Germany             3.624386e+12  3.685556e+12  \n",
      "India               2.200617e+12  2.367206e+12  \n",
      "France              2.729632e+12  2.761185e+12  \n",
      "South Korea         1.234340e+12  1.266580e+12  \n",
      "Italy               2.033868e+12  2.049316e+12  \n",
      "Spain               1.375605e+12  1.419821e+12  \n",
      "Iran                4.639027e+11           NaN  \n",
      "Australia           1.272520e+12  1.301251e+12  \n",
      "Brazil              2.412231e+12  2.319423e+12  \n"
     ]
    }
   ],
   "source": [
    "def answer_one():\n",
    "    tf1=pd.read_excel(\"assets/Energy Indicators.xls\")\n",
    "    df1=tf1[17:244]\n",
    "    df1=df1.drop({'Unnamed: 0', 'Unnamed: 2'}, axis=1)\n",
    "    df1 = df1.rename({'Unnamed: 1': 'country', 'Unnamed: 3': 'Energy Supply', 'Unnamed: 4': 'Energy Supply per Capita', 'Unnamed: 5': '% Renewable'}, axis=1)\n",
    "    df1.index=df1.index-16\n",
    "    df1['Energy Supply']=df1['Energy Supply']*1000000\n",
    "    df1['country'][df1['country']=='Republic of Korea']='South Korea'\n",
    "    df1['country'][df1['country']=='United States of America']='United States'\n",
    "    df1['country'][df1['country']=='United Kingdom of Great Britain and Northern Ireland']='United Kingdom'\n",
    "    df1['country'][df1['country']=='China, Hong Kong Special Administrative Region']='Hong Kong'\n",
    "    df1['country'][df1['country']=='United States of America']='United States'\n",
    "    df1['country'][df1['country']=='Switzerland17']='Switzerland'\n",
    "    df1['country'][df1['country']=='Australia1']='Australia'\n",
    "    df1['country'][df1['country']=='China2']='China'\n",
    "    df1['country'][df1['country']=='China, Macao Special Administrative Region4']='Macao'\n",
    "    df1['country'][df1['country']=='Denmark5']='Denmark'\n",
    "    df1['country'][df1['country']=='Bolivia (Plurinational State of)']='Bolivia'\n",
    "    df1['country'][df1['country']=='France6']='France'\n",
    "    df1['country'][df1['country']=='Denmark5']='Denmark'\n",
    "    df1['country'][df1['country']=='Greenland7']='Greenland'\n",
    "    df1['country'][df1['country']=='Indonesia8']='Indonesia'\n",
    "    df1['country'][df1['country']=='Italy9']='Italy'\n",
    "    df1['country'][df1['country']=='Japan10']='Japan'\n",
    "    df1['country'][df1['country']=='Kuwait11']='Kuwait'\n",
    "    df1['country'][df1['country']=='Netherlands12']='Netherlands'\n",
    "    df1['country'][df1['country']=='Portugal13']='Portugal'\n",
    "    df1['country'][df1['country']=='Saudi Arabia14']='Saudi Arabia'\n",
    "    df1['country'][df1['country']=='Serbia15']='Serbia'\n",
    "    df1['country'][df1['country']=='Iran (Islamic Republic of)']='Iran'\n",
    "    df1['country'][df1['country']=='Spain16']='Spain'\n",
    "    df1['country'][df1['country']=='Ukraine18']='Ukraine'\n",
    "    df1 = df1.rename({'country': 'Country Name'}, axis=1)\n",
    "    df1=df1.set_index(['Country Name'])\n",
    "    tf2=pd.read_csv('assets/world_bank.csv')\n",
    "    df2=tf2\n",
    "    df2=df2.rename({'Unnamed: 50': '2006', 'Unnamed: 51': '2007', 'Unnamed: 52': '2008', 'Unnamed: 53': '2009', 'Unnamed: 54': '2010', 'Unnamed: 55': '2011', 'Unnamed: 56': '2012', 'Unnamed: 57': '2013', 'Unnamed: 58': '2014', 'Unnamed: 59': '2015', 'Data Source': 'Country Name'}, axis=1)\n",
    "    df2=df2[4:269]\n",
    "    df2=df2[['2006','2007', '2008', '2009', '2010', '2011', '2012', '2013', '2014', '2015', 'Country Name']]\n",
    "    df2['Country Name'][df2['Country Name']=='Korea, Rep.']='South Korea'\n",
    "    df2['Country Name'][df2['Country Name']=='Iran, Islamic Rep.']='Iran'\n",
    "    df2['Country Name'][df2['Country Name']=='Hong Kong SAR, China']='Hong Kong'\n",
    "    df2=df2.set_index(['Country Name'])\n",
    "    tf3=pd.read_excel(\"assets/scimagojr-3.xlsx\")\n",
    "    df3=tf3\n",
    "    df3 = df3.rename({'Country': 'Country Name'}, axis=1)\n",
    "    df3.index=df3.index+1\n",
    "    df3=df3.iloc[:15]\n",
    "    df3=df3.set_index('Country Name')\n",
    "    df4=pd.merge(df3, df1, how='left', left_index=True, right_index=True)\n",
    "    df=pd.merge(df4, df2, how='left', left_index=True, right_index=True)\n",
    "    df['Energy Supply'] = df['Energy Supply'].astype('float64')\n",
    "    df['Energy Supply per Capita'] = df['Energy Supply per Capita'].astype('float64')\n",
    "    return df\n",
    "print(answer_one())"
   ]
  },
  {
   "cell_type": "markdown",
   "id": "a9b76777",
   "metadata": {},
   "source": [
    "<b><font size =3>2. Checking how much was lost while merging the three datasets in the previous question.</font></b>"
   ]
  },
  {
   "cell_type": "code",
   "execution_count": 6,
   "id": "dbb68d51",
   "metadata": {
    "scrolled": true
   },
   "outputs": [
    {
     "name": "stdout",
     "output_type": "stream",
     "text": [
      "158\n",
      "158\n"
     ]
    },
    {
     "name": "stderr",
     "output_type": "stream",
     "text": [
      "<ipython-input-6-97f847577118>:41: SettingWithCopyWarning: \n",
      "A value is trying to be set on a copy of a slice from a DataFrame\n",
      "\n",
      "See the caveats in the documentation: https://pandas.pydata.org/pandas-docs/stable/user_guide/indexing.html#returning-a-view-versus-a-copy\n",
      "  df2['Country Name'][df2['Country Name']=='Iran, Islamic Rep.']='Iran'\n",
      "<ipython-input-6-97f847577118>:42: SettingWithCopyWarning: \n",
      "A value is trying to be set on a copy of a slice from a DataFrame\n",
      "\n",
      "See the caveats in the documentation: https://pandas.pydata.org/pandas-docs/stable/user_guide/indexing.html#returning-a-view-versus-a-copy\n",
      "  df2['Country Name'][df2['Country Name']=='Hong Kong SAR, China']='Hong Kong'\n"
     ]
    }
   ],
   "source": [
    "def answer_two():\n",
    "    tf1=pd.read_excel(\"assets/Energy Indicators.xls\")\n",
    "    df1=tf1[17:244]\n",
    "    df1=df1.drop({'Unnamed: 0', 'Unnamed: 2'}, axis=1)\n",
    "    df1 = df1.rename({'Unnamed: 1': 'country', 'Unnamed: 3': 'Energy Supply', 'Unnamed: 4': 'Energy Supply per Capita', 'Unnamed: 5': '% Renewable'}, axis=1)\n",
    "    df1.index=df1.index-16\n",
    "    df1['Energy Supply']=df1['Energy Supply']*1000000\n",
    "    df1['country'][df1['country']=='Republic of Korea']='South Korea'\n",
    "    df1['country'][df1['country']=='United States of America']='United States'\n",
    "    df1['country'][df1['country']=='United Kingdom of Great Britain and Northern Ireland']='United Kingdom'\n",
    "    df1['country'][df1['country']=='China, Hong Kong Special Administrative Region']='Hong Kong'\n",
    "    df1['country'][df1['country']=='United States of America']='United States'\n",
    "    df1['country'][df1['country']=='Switzerland17']='Switzerland'\n",
    "    df1['country'][df1['country']=='Australia1']='Australia'\n",
    "    df1['country'][df1['country']=='China2']='China'\n",
    "    df1['country'][df1['country']=='China, Macao Special Administrative Region4']='Macao'\n",
    "    df1['country'][df1['country']=='Denmark5']='Denmark'\n",
    "    df1['country'][df1['country']=='Bolivia (Plurinational State of)']='Bolivia'\n",
    "    df1['country'][df1['country']=='France6']='France'\n",
    "    df1['country'][df1['country']=='Denmark5']='Denmark'\n",
    "    df1['country'][df1['country']=='Greenland7']='Greenland'\n",
    "    df1['country'][df1['country']=='Indonesia8']='Indonesia'\n",
    "    df1['country'][df1['country']=='Italy9']='Italy'\n",
    "    df1['country'][df1['country']=='Japan10']='Japan'\n",
    "    df1['country'][df1['country']=='Kuwait11']='Kuwait'\n",
    "    df1['country'][df1['country']=='Netherlands12']='Netherlands'\n",
    "    df1['country'][df1['country']=='Portugal13']='Portugal'\n",
    "    df1['country'][df1['country']=='Saudi Arabia14']='Saudi Arabia'\n",
    "    df1['country'][df1['country']=='Serbia15']='Serbia'\n",
    "    df1['country'][df1['country']=='Iran (Islamic Republic of)']='Iran'\n",
    "    df1['country'][df1['country']=='Spain16']='Spain'\n",
    "    df1['country'][df1['country']=='Ukraine18']='Ukraine'\n",
    "    df1 = df1.rename({'country': 'Country Name'}, axis=1)\n",
    "    df1=df1.set_index(['Country Name'])\n",
    "    tf2=pd.read_csv('assets/world_bank.csv')\n",
    "    df2=tf2\n",
    "    df2=df2.rename({'Unnamed: 50': '2006', 'Unnamed: 51': '2007', 'Unnamed: 52': '2008', 'Unnamed: 53': '2009', 'Unnamed: 54': '2010', 'Unnamed: 55': '2011', 'Unnamed: 56': '2012', 'Unnamed: 57': '2013', 'Unnamed: 58': '2014', 'Unnamed: 59': '2015', 'Data Source': 'Country Name'}, axis=1)\n",
    "    df2=df2[4:269]\n",
    "    df2=df2[['2006','2007', '2008', '2009', '2010', '2011', '2012', '2013', '2014', '2015', 'Country Name']]\n",
    "    df2['Country Name'][df2['Country Name']=='Korea, Rep.']='South Korea'\n",
    "    df2['Country Name'][df2['Country Name']=='Iran, Islamic Rep.']='Iran'\n",
    "    df2['Country Name'][df2['Country Name']=='Hong Kong SAR, China']='Hong Kong'\n",
    "    df2=df2.set_index(['Country Name'])\n",
    "    tf3=pd.read_excel(\"assets/scimagojr-3.xlsx\")\n",
    "    df3=tf3\n",
    "    df3 = df3.rename({'Country': 'Country Name'}, axis=1)\n",
    "    df3.index=df3.index+1\n",
    "    df3=df3.set_index('Country Name')\n",
    "    df4=pd.merge(df3, df1, how='inner', left_index=True, right_index=True)\n",
    "    df=pd.merge(df4, df2, how='inner', left_index=True, right_index=True)\n",
    "    df4w=pd.merge(df1, df3, how='outer', left_index=True, right_index=True)\n",
    "    dfw=pd.merge(df4w, df2, how='outer', left_index=True, right_index=True)\n",
    "    entr1=len(df)\n",
    "    entr2=len(dfw)\n",
    "    print(entr2-entr1)\n",
    "    return (entr2-entr1)\n",
    "print(answer_two())"
   ]
  },
  {
   "cell_type": "markdown",
   "id": "28d858d4",
   "metadata": {},
   "source": [
    "<b><font size = 3>3. Top 15 countries for average GDP over the last 10 years</font></b>"
   ]
  },
  {
   "cell_type": "code",
   "execution_count": 7,
   "id": "74500856",
   "metadata": {},
   "outputs": [
    {
     "name": "stdout",
     "output_type": "stream",
     "text": [
      "Country Name\n",
      "United States         1.536434e+13\n",
      "China                 6.348609e+12\n",
      "Japan                 5.542208e+12\n",
      "Germany               3.493025e+12\n",
      "France                2.681725e+12\n",
      "United Kingdom        2.487907e+12\n",
      "Brazil                2.189794e+12\n",
      "Italy                 2.120175e+12\n",
      "India                 1.769297e+12\n",
      "Canada                1.660647e+12\n",
      "Russian Federation    1.565459e+12\n",
      "Spain                 1.418078e+12\n",
      "Australia             1.164043e+12\n",
      "South Korea           1.106715e+12\n",
      "Iran                  4.441558e+11\n",
      "Name: avgGDP, dtype: float64\n"
     ]
    },
    {
     "name": "stderr",
     "output_type": "stream",
     "text": [
      "<ipython-input-5-2d976be131fc>:41: SettingWithCopyWarning: \n",
      "A value is trying to be set on a copy of a slice from a DataFrame\n",
      "\n",
      "See the caveats in the documentation: https://pandas.pydata.org/pandas-docs/stable/user_guide/indexing.html#returning-a-view-versus-a-copy\n",
      "  df2['Country Name'][df2['Country Name']=='Iran, Islamic Rep.']='Iran'\n",
      "<ipython-input-5-2d976be131fc>:42: SettingWithCopyWarning: \n",
      "A value is trying to be set on a copy of a slice from a DataFrame\n",
      "\n",
      "See the caveats in the documentation: https://pandas.pydata.org/pandas-docs/stable/user_guide/indexing.html#returning-a-view-versus-a-copy\n",
      "  df2['Country Name'][df2['Country Name']=='Hong Kong SAR, China']='Hong Kong'\n"
     ]
    }
   ],
   "source": [
    "def answer_three():\n",
    "    gdpdf=answer_one()\n",
    "    gdpdf=gdpdf[['2006','2007', '2008', '2009', '2010', '2011', '2012', '2013', '2014', '2015']]\n",
    "    a=[]\n",
    "    for t in gdpdf.index:\n",
    "        a.append(np.nanmean(gdpdf.loc[t]))\n",
    "    gdpdf['avgGDP']=a\n",
    "    gdpdf=gdpdf.sort_values('avgGDP', ascending=False, )\n",
    "    gdpdf=gdpdf[{'avgGDP'}]\n",
    "    gdpdf=gdpdf[:30]\n",
    "    gdpdf=gdpdf.T\n",
    "    gdpdf=gdpdf.iloc[0]\n",
    "    gdpdf\n",
    "    return gdpdf\n",
    "print(answer_three())"
   ]
  },
  {
   "cell_type": "markdown",
   "id": "2951c1a4",
   "metadata": {},
   "source": [
    "<b><font size = 3>4. By how much had the GDP changed over the 10 year span for the country with the 6th largest average GDP</font></b>"
   ]
  },
  {
   "cell_type": "code",
   "execution_count": 8,
   "id": "ec157b80",
   "metadata": {},
   "outputs": [
    {
     "name": "stdout",
     "output_type": "stream",
     "text": [
      "246702696075.3999\n"
     ]
    },
    {
     "name": "stderr",
     "output_type": "stream",
     "text": [
      "<ipython-input-5-2d976be131fc>:41: SettingWithCopyWarning: \n",
      "A value is trying to be set on a copy of a slice from a DataFrame\n",
      "\n",
      "See the caveats in the documentation: https://pandas.pydata.org/pandas-docs/stable/user_guide/indexing.html#returning-a-view-versus-a-copy\n",
      "  df2['Country Name'][df2['Country Name']=='Iran, Islamic Rep.']='Iran'\n",
      "<ipython-input-5-2d976be131fc>:42: SettingWithCopyWarning: \n",
      "A value is trying to be set on a copy of a slice from a DataFrame\n",
      "\n",
      "See the caveats in the documentation: https://pandas.pydata.org/pandas-docs/stable/user_guide/indexing.html#returning-a-view-versus-a-copy\n",
      "  df2['Country Name'][df2['Country Name']=='Hong Kong SAR, China']='Hong Kong'\n"
     ]
    }
   ],
   "source": [
    "def answer_four():\n",
    "    dfq4=answer_one()\n",
    "    dfq4=dfq4.loc['United Kingdom']\n",
    "    return dfq4['2015']-dfq4['2006']\n",
    "    raise NotImplementedError()\n",
    "print(answer_four())"
   ]
  },
  {
   "cell_type": "markdown",
   "id": "55d0c191",
   "metadata": {},
   "source": [
    "<b><font size = 3>5. Mean energy supply per capita</font></b>"
   ]
  },
  {
   "cell_type": "code",
   "execution_count": 9,
   "id": "079caa58",
   "metadata": {},
   "outputs": [
    {
     "name": "stdout",
     "output_type": "stream",
     "text": [
      "157.6\n"
     ]
    },
    {
     "name": "stderr",
     "output_type": "stream",
     "text": [
      "<ipython-input-5-2d976be131fc>:41: SettingWithCopyWarning: \n",
      "A value is trying to be set on a copy of a slice from a DataFrame\n",
      "\n",
      "See the caveats in the documentation: https://pandas.pydata.org/pandas-docs/stable/user_guide/indexing.html#returning-a-view-versus-a-copy\n",
      "  df2['Country Name'][df2['Country Name']=='Iran, Islamic Rep.']='Iran'\n",
      "<ipython-input-5-2d976be131fc>:42: SettingWithCopyWarning: \n",
      "A value is trying to be set on a copy of a slice from a DataFrame\n",
      "\n",
      "See the caveats in the documentation: https://pandas.pydata.org/pandas-docs/stable/user_guide/indexing.html#returning-a-view-versus-a-copy\n",
      "  df2['Country Name'][df2['Country Name']=='Hong Kong SAR, China']='Hong Kong'\n"
     ]
    }
   ],
   "source": [
    "def answer_five():\n",
    "    dfq5=answer_one()\n",
    "    return np.nanmean(dfq5['Energy Supply per Capita'])\n",
    "    raise NotImplementedError()\n",
    "print(answer_five())"
   ]
  },
  {
   "cell_type": "markdown",
   "id": "23a02203",
   "metadata": {},
   "source": [
    "<b><font size = 3>5. Country having the maximum % Renewable and what is the percentage</font></b>"
   ]
  },
  {
   "cell_type": "code",
   "execution_count": 11,
   "id": "8303ab19",
   "metadata": {},
   "outputs": [
    {
     "name": "stdout",
     "output_type": "stream",
     "text": [
      "('Brazil', 69.64803)\n"
     ]
    },
    {
     "name": "stderr",
     "output_type": "stream",
     "text": [
      "<ipython-input-5-2d976be131fc>:41: SettingWithCopyWarning: \n",
      "A value is trying to be set on a copy of a slice from a DataFrame\n",
      "\n",
      "See the caveats in the documentation: https://pandas.pydata.org/pandas-docs/stable/user_guide/indexing.html#returning-a-view-versus-a-copy\n",
      "  df2['Country Name'][df2['Country Name']=='Iran, Islamic Rep.']='Iran'\n",
      "<ipython-input-5-2d976be131fc>:42: SettingWithCopyWarning: \n",
      "A value is trying to be set on a copy of a slice from a DataFrame\n",
      "\n",
      "See the caveats in the documentation: https://pandas.pydata.org/pandas-docs/stable/user_guide/indexing.html#returning-a-view-versus-a-copy\n",
      "  df2['Country Name'][df2['Country Name']=='Hong Kong SAR, China']='Hong Kong'\n"
     ]
    }
   ],
   "source": [
    "def answer_six():\n",
    "    # YOUR CODE HERE\n",
    "    dfq6=answer_one()\n",
    "    dfq6=dfq6['% Renewable']\n",
    "    for cn in dfq6.index:\n",
    "        if dfq6[cn]==dfq6.max():\n",
    "            c=cn  \n",
    "    t=(c, dfq6.max())\n",
    "    return t\n",
    "print(answer_six())    "
   ]
  },
  {
   "cell_type": "markdown",
   "id": "dad39e03",
   "metadata": {},
   "source": [
    "<b><font size = 3>7. Maximum value for ration of Self-Citations to Total Citations, and what country has the highest ratio</font></b>"
   ]
  },
  {
   "cell_type": "code",
   "execution_count": 12,
   "id": "83cdf749",
   "metadata": {},
   "outputs": [
    {
     "name": "stdout",
     "output_type": "stream",
     "text": [
      "158\n",
      "158\n"
     ]
    },
    {
     "name": "stderr",
     "output_type": "stream",
     "text": [
      "<ipython-input-6-97f847577118>:41: SettingWithCopyWarning: \n",
      "A value is trying to be set on a copy of a slice from a DataFrame\n",
      "\n",
      "See the caveats in the documentation: https://pandas.pydata.org/pandas-docs/stable/user_guide/indexing.html#returning-a-view-versus-a-copy\n",
      "  df2['Country Name'][df2['Country Name']=='Iran, Islamic Rep.']='Iran'\n",
      "<ipython-input-6-97f847577118>:42: SettingWithCopyWarning: \n",
      "A value is trying to be set on a copy of a slice from a DataFrame\n",
      "\n",
      "See the caveats in the documentation: https://pandas.pydata.org/pandas-docs/stable/user_guide/indexing.html#returning-a-view-versus-a-copy\n",
      "  df2['Country Name'][df2['Country Name']=='Hong Kong SAR, China']='Hong Kong'\n"
     ]
    }
   ],
   "source": [
    "def answer_seven():\n",
    "    # YOUR CODE HERE\n",
    "    dfq7=answer_one()\n",
    "    dfq7['rsct']=dfq7['Self-citations']/dfq7['Citations']\n",
    "    dfq7=dfq7['rsct']\n",
    "    for cn in dfq7.index:\n",
    "        if dfq7[cn]==dfq7.max():\n",
    "            c=cn  \n",
    "    t=(c, dfq7.max())\n",
    "    return t\n",
    "print(answer_two())"
   ]
  },
  {
   "cell_type": "markdown",
   "id": "48ed848c",
   "metadata": {},
   "source": [
    "<b><font size = 3>8. Estimating the population using Energy Supply and Energy Supply per capita and finding third most populous country according to this estimate. </font></b>"
   ]
  },
  {
   "cell_type": "code",
   "execution_count": 13,
   "id": "9319b65b",
   "metadata": {},
   "outputs": [
    {
     "name": "stdout",
     "output_type": "stream",
     "text": [
      "China\n"
     ]
    },
    {
     "name": "stderr",
     "output_type": "stream",
     "text": [
      "<ipython-input-5-2d976be131fc>:41: SettingWithCopyWarning: \n",
      "A value is trying to be set on a copy of a slice from a DataFrame\n",
      "\n",
      "See the caveats in the documentation: https://pandas.pydata.org/pandas-docs/stable/user_guide/indexing.html#returning-a-view-versus-a-copy\n",
      "  df2['Country Name'][df2['Country Name']=='Iran, Islamic Rep.']='Iran'\n",
      "<ipython-input-5-2d976be131fc>:42: SettingWithCopyWarning: \n",
      "A value is trying to be set on a copy of a slice from a DataFrame\n",
      "\n",
      "See the caveats in the documentation: https://pandas.pydata.org/pandas-docs/stable/user_guide/indexing.html#returning-a-view-versus-a-copy\n",
      "  df2['Country Name'][df2['Country Name']=='Hong Kong SAR, China']='Hong Kong'\n"
     ]
    }
   ],
   "source": [
    "def answer_eight():\n",
    "    # YOUR CODE HERE\n",
    "    dfq8=answer_one()\n",
    "    dfq8['popest']=dfq8['Energy Supply']/dfq8['Energy Supply per Capita']\n",
    "    dfq8=dfq8['popest']\n",
    "    for cn in dfq8.index:\n",
    "        if dfq8[cn]==dfq8.max():\n",
    "            c=cn  \n",
    "    return c\n",
    "print(answer_eight())"
   ]
  },
  {
   "cell_type": "markdown",
   "id": "c13c06f4",
   "metadata": {},
   "source": [
    "<b><font size = 3>9. Estimating the number of citable documents per person and finding the correlation between the number of citable documents per capita and the energy supply per capita.</font></b>"
   ]
  },
  {
   "cell_type": "code",
   "execution_count": 15,
   "id": "dd9ce8c0",
   "metadata": {},
   "outputs": [
    {
     "name": "stderr",
     "output_type": "stream",
     "text": [
      "<ipython-input-5-2d976be131fc>:41: SettingWithCopyWarning: \n",
      "A value is trying to be set on a copy of a slice from a DataFrame\n",
      "\n",
      "See the caveats in the documentation: https://pandas.pydata.org/pandas-docs/stable/user_guide/indexing.html#returning-a-view-versus-a-copy\n",
      "  df2['Country Name'][df2['Country Name']=='Iran, Islamic Rep.']='Iran'\n",
      "<ipython-input-5-2d976be131fc>:42: SettingWithCopyWarning: \n",
      "A value is trying to be set on a copy of a slice from a DataFrame\n",
      "\n",
      "See the caveats in the documentation: https://pandas.pydata.org/pandas-docs/stable/user_guide/indexing.html#returning-a-view-versus-a-copy\n",
      "  df2['Country Name'][df2['Country Name']=='Hong Kong SAR, China']='Hong Kong'\n"
     ]
    },
    {
     "name": "stdout",
     "output_type": "stream",
     "text": [
      "0.7940010435442947\n"
     ]
    },
    {
     "name": "stderr",
     "output_type": "stream",
     "text": [
      "<ipython-input-5-2d976be131fc>:41: SettingWithCopyWarning: \n",
      "A value is trying to be set on a copy of a slice from a DataFrame\n",
      "\n",
      "See the caveats in the documentation: https://pandas.pydata.org/pandas-docs/stable/user_guide/indexing.html#returning-a-view-versus-a-copy\n",
      "  df2['Country Name'][df2['Country Name']=='Iran, Islamic Rep.']='Iran'\n",
      "<ipython-input-5-2d976be131fc>:42: SettingWithCopyWarning: \n",
      "A value is trying to be set on a copy of a slice from a DataFrame\n",
      "\n",
      "See the caveats in the documentation: https://pandas.pydata.org/pandas-docs/stable/user_guide/indexing.html#returning-a-view-versus-a-copy\n",
      "  df2['Country Name'][df2['Country Name']=='Hong Kong SAR, China']='Hong Kong'\n"
     ]
    },
    {
     "data": {
      "image/png": "[encoded data removed]",
      "text/plain": [
       "<Figure size 432x288 with 1 Axes>"
      ]
     },
     "metadata": {
      "needs_background": "light"
     },
     "output_type": "display_data"
    }
   ],
   "source": [
    "def answer_nine():\n",
    "    # YOUR CODE HERE\n",
    "    dfq9=answer_one()\n",
    "    dfq9['popest']=dfq9['Energy Supply']/dfq9['Energy Supply per Capita']\n",
    "    dfq9['CdocspCapi'] = dfq9['Citable documents'] / dfq9['popest']\n",
    "    dfq9=dfq9[{'Energy Supply per Capita', 'CdocspCapi'}]\n",
    "    return dfq9['Energy Supply per Capita'].corr(dfq9['CdocspCapi'])\n",
    "print(answer_nine())\n",
    "def plot9():\n",
    "    import matplotlib as plt\n",
    "    %matplotlib inline\n",
    "    \n",
    "    Top15 = answer_one()\n",
    "    Top15['PopEst'] = Top15['Energy Supply'] / Top15['Energy Supply per Capita']\n",
    "    Top15['Citable docs per Capita'] = Top15['Citable documents'] / Top15['PopEst']\n",
    "    Top15.plot(x='Citable docs per Capita', y='Energy Supply per Capita', kind='scatter', xlim=[0, 0.0006])\n",
    "plot9()"
   ]
  },
  {
   "cell_type": "markdown",
   "id": "58c19960",
   "metadata": {},
   "source": [
    "<b><font size = 3>10.  Creating a column with a 1 if the country's % Renewable value is at or above the median for all countries in the top 15, and a 0 if the country's % Renewable value is below the median</font></b>"
   ]
  },
  {
   "cell_type": "code",
   "execution_count": 16,
   "id": "25699ab2",
   "metadata": {},
   "outputs": [
    {
     "name": "stdout",
     "output_type": "stream",
     "text": [
      "Country Name\n",
      "China                 1\n",
      "United States         0\n",
      "Japan                 0\n",
      "United Kingdom        0\n",
      "Russian Federation    1\n",
      "Canada                1\n",
      "Germany               1\n",
      "India                 0\n",
      "France                1\n",
      "South Korea           0\n",
      "Italy                 1\n",
      "Spain                 1\n",
      "Iran                  0\n",
      "Australia             0\n",
      "Brazil                1\n",
      "Name: RMed, dtype: int32\n"
     ]
    },
    {
     "name": "stderr",
     "output_type": "stream",
     "text": [
      "<ipython-input-5-2d976be131fc>:41: SettingWithCopyWarning: \n",
      "A value is trying to be set on a copy of a slice from a DataFrame\n",
      "\n",
      "See the caveats in the documentation: https://pandas.pydata.org/pandas-docs/stable/user_guide/indexing.html#returning-a-view-versus-a-copy\n",
      "  df2['Country Name'][df2['Country Name']=='Iran, Islamic Rep.']='Iran'\n",
      "<ipython-input-5-2d976be131fc>:42: SettingWithCopyWarning: \n",
      "A value is trying to be set on a copy of a slice from a DataFrame\n",
      "\n",
      "See the caveats in the documentation: https://pandas.pydata.org/pandas-docs/stable/user_guide/indexing.html#returning-a-view-versus-a-copy\n",
      "  df2['Country Name'][df2['Country Name']=='Hong Kong SAR, China']='Hong Kong'\n"
     ]
    }
   ],
   "source": [
    "def answer_ten():\n",
    "    # YOUR CODE HERE\n",
    "    dfq10=answer_one()\n",
    "    md=np.median(dfq10['% Renewable'])\n",
    "    dfq10['RMed'] = np.where(dfq10['% Renewable']>=md, 1, 0)\n",
    "    dfq10=dfq10['RMed']\n",
    "    dfq10=dfq10.T\n",
    "    dfq10f=dfq10.iloc[0]\n",
    "    return dfq10\n",
    "print(answer_ten())"
   ]
  },
  {
   "cell_type": "markdown",
   "id": "88db4e61",
   "metadata": {},
   "source": [
    "<b><font size = 3>11. Converting the Population Estimate series to a string with thousands separator (using commas).</font></b>"
   ]
  },
  {
   "cell_type": "code",
   "execution_count": 19,
   "id": "0a8255c7",
   "metadata": {},
   "outputs": [
    {
     "name": "stdout",
     "output_type": "stream",
     "text": [
      "Country Name\n",
      "China                 1,367,645,161.2903225\n",
      "United States          317,615,384.61538464\n",
      "Japan                  127,409,395.97315437\n",
      "United Kingdom         63,870,967.741935484\n",
      "Russian Federation            143,500,000.0\n",
      "Canada                  35,239,864.86486486\n",
      "Germany                 80,369,696.96969697\n",
      "India                 1,276,730,769.2307692\n",
      "France                  63,837,349.39759036\n",
      "South Korea            49,805,429.864253394\n",
      "Italy                  59,908,256.880733944\n",
      "Spain                    46,443,396.2264151\n",
      "Iran                    77,075,630.25210084\n",
      "Australia              23,316,017.316017315\n",
      "Brazil                 205,915,254.23728815\n",
      "Name: popest, dtype: object\n"
     ]
    },
    {
     "name": "stderr",
     "output_type": "stream",
     "text": [
      "<ipython-input-5-2d976be131fc>:41: SettingWithCopyWarning: \n",
      "A value is trying to be set on a copy of a slice from a DataFrame\n",
      "\n",
      "See the caveats in the documentation: https://pandas.pydata.org/pandas-docs/stable/user_guide/indexing.html#returning-a-view-versus-a-copy\n",
      "  df2['Country Name'][df2['Country Name']=='Iran, Islamic Rep.']='Iran'\n",
      "<ipython-input-5-2d976be131fc>:42: SettingWithCopyWarning: \n",
      "A value is trying to be set on a copy of a slice from a DataFrame\n",
      "\n",
      "See the caveats in the documentation: https://pandas.pydata.org/pandas-docs/stable/user_guide/indexing.html#returning-a-view-versus-a-copy\n",
      "  df2['Country Name'][df2['Country Name']=='Hong Kong SAR, China']='Hong Kong'\n"
     ]
    }
   ],
   "source": [
    "def answer_thirteen():\n",
    "    # YOUR CODE HERE\n",
    "    dfq13=answer_one()\n",
    "    dfq13['popest']=dfq13['Energy Supply']/dfq13['Energy Supply per Capita']\n",
    "    dfq13=dfq13['popest']\n",
    "    dfq13= dfq13.map(\"{:,}\".format)\n",
    "    return dfq13\n",
    "print(answer_thirteen())"
   ]
  },
  {
   "cell_type": "code",
   "execution_count": null,
   "id": "dbbda3ef",
   "metadata": {},
   "outputs": [],
   "source": []
  }
 ],
 "metadata": {
  "kernelspec": {
   "display_name": "Python 3",
   "language": "python",
   "name": "python3"
  },
  "language_info": {
   "codemirror_mode": {
    "name": "ipython",
    "version": 3
   },
   "file_extension": ".py",
   "mimetype": "text/x-python",
   "name": "python",
   "nbconvert_exporter": "python",
   "pygments_lexer": "ipython3",
   "version": "3.8.8"
  }
 },
 "nbformat": 4,
 "nbformat_minor": 5
}
